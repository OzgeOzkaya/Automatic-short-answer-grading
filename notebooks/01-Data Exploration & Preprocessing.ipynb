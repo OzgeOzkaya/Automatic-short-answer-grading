{
 "cells": [
  {
   "cell_type": "code",
   "execution_count": 15,
   "metadata": {},
   "outputs": [
    {
     "name": "stdout",
     "output_type": "stream",
     "text": [
      "CPU times: total: 15.6 ms\n",
      "Wall time: 87.6 ms\n"
     ]
    }
   ],
   "source": [
    "%%time\n",
    "import os\n",
    "current_dir = os.getcwd()\n",
    "parent_dir = os.path.dirname(current_dir)\n",
    "\n",
    "import pandas as pd\n",
    "import ast\n",
    "import matplotlib.pyplot as plt\n",
    "\n",
    "from sklearn.metrics import confusion_matrix, classification_report\n",
    "from tensorflow.keras.preprocessing.sequence import pad_sequences\n",
    "from tensorflow.keras.models import Sequential\n",
    "import numpy as np\n",
    "from sklearn.model_selection import train_test_split\n",
    "\n",
    "from collections import Counter\n",
    "from sklearn.utils import resample\n",
    "\n",
    "from keras.layers import *\n",
    "from tensorflow.keras.optimizers import RMSprop\n",
    "from tensorflow.keras.callbacks import EarlyStopping\n",
    "from tensorflow.keras.regularizers import l2\n",
    "from tensorflow.keras.models import Model\n",
    "\n",
    "import seaborn as sns\n",
    "from tensorflow.keras.preprocessing.text import Tokenizer\n",
    "import random\n",
    "\n",
    "from lime import lime_text\n",
    "from lime.lime_text import LimeTextExplainer\n",
    "import contractions\n",
    "import re\n",
    "\n",
    "from langdetect import detect\n"
   ]
  },
  {
   "cell_type": "markdown",
   "metadata": {},
   "source": [
    "### **Utils**"
   ]
  },
  {
   "cell_type": "code",
   "execution_count": 16,
   "metadata": {},
   "outputs": [],
   "source": [
    "def detect_language(text):\n",
    "    try:\n",
    "        lang = detect(text)\n",
    "        return lang\n",
    "    except:\n",
    "        return None"
   ]
  },
  {
   "cell_type": "markdown",
   "metadata": {},
   "source": [
    "### **Data Import**"
   ]
  },
  {
   "cell_type": "code",
   "execution_count": 9,
   "metadata": {},
   "outputs": [
    {
     "data": {
      "text/html": [
       "<div>\n",
       "<style scoped>\n",
       "    .dataframe tbody tr th:only-of-type {\n",
       "        vertical-align: middle;\n",
       "    }\n",
       "\n",
       "    .dataframe tbody tr th {\n",
       "        vertical-align: top;\n",
       "    }\n",
       "\n",
       "    .dataframe thead th {\n",
       "        text-align: right;\n",
       "    }\n",
       "</style>\n",
       "<table border=\"1\" class=\"dataframe\">\n",
       "  <thead>\n",
       "    <tr style=\"text-align: right;\">\n",
       "      <th></th>\n",
       "      <th>no</th>\n",
       "      <th>question1</th>\n",
       "      <th>question2</th>\n",
       "      <th>grade</th>\n",
       "    </tr>\n",
       "  </thead>\n",
       "  <tbody>\n",
       "    <tr>\n",
       "      <th>0</th>\n",
       "      <td>0</td>\n",
       "      <td>If the question is IR-Based, I will do the fol...</td>\n",
       "      <td>Using semantic analysis methods. We can use ve...</td>\n",
       "      <td>25</td>\n",
       "    </tr>\n",
       "    <tr>\n",
       "      <th>1</th>\n",
       "      <td>1</td>\n",
       "      <td>If the question is IR-Based, I will do the fol...</td>\n",
       "      <td>we should use vector space model. firstly, bin...</td>\n",
       "      <td>25</td>\n",
       "    </tr>\n",
       "    <tr>\n",
       "      <th>2</th>\n",
       "      <td>2</td>\n",
       "      <td>If the question is IR-Based, I will do the fol...</td>\n",
       "      <td>Assume we have a question like \" Why the sky i...</td>\n",
       "      <td>50</td>\n",
       "    </tr>\n",
       "    <tr>\n",
       "      <th>3</th>\n",
       "      <td>3</td>\n",
       "      <td>If the question is IR-Based, I will do the fol...</td>\n",
       "      <td>We can use Vector Space Model that is represen...</td>\n",
       "      <td>25</td>\n",
       "    </tr>\n",
       "    <tr>\n",
       "      <th>4</th>\n",
       "      <td>4</td>\n",
       "      <td>If the question is IR-Based, I will do the fol...</td>\n",
       "      <td>In this corpus we will use sentence segmenting...</td>\n",
       "      <td>50</td>\n",
       "    </tr>\n",
       "    <tr>\n",
       "      <th>...</th>\n",
       "      <td>...</td>\n",
       "      <td>...</td>\n",
       "      <td>...</td>\n",
       "      <td>...</td>\n",
       "    </tr>\n",
       "    <tr>\n",
       "      <th>166</th>\n",
       "      <td>166</td>\n",
       "      <td>The problem like that can solve by word sense ...</td>\n",
       "      <td>Most important prob. are related to ambiguite...</td>\n",
       "      <td>0</td>\n",
       "    </tr>\n",
       "    <tr>\n",
       "      <th>167</th>\n",
       "      <td>167</td>\n",
       "      <td>The problem like that can solve by word sense ...</td>\n",
       "      <td>Lexical WordNet ile zerim. Semantic Syntatic</td>\n",
       "      <td>40</td>\n",
       "    </tr>\n",
       "    <tr>\n",
       "      <th>168</th>\n",
       "      <td>168</td>\n",
       "      <td>The problem like that can solve by word sense ...</td>\n",
       "      <td>These can be solved by using the rule based ma...</td>\n",
       "      <td>40</td>\n",
       "    </tr>\n",
       "    <tr>\n",
       "      <th>169</th>\n",
       "      <td>169</td>\n",
       "      <td>The problem like that can solve by word sense ...</td>\n",
       "      <td>before translating a word that has many meanin...</td>\n",
       "      <td>100</td>\n",
       "    </tr>\n",
       "    <tr>\n",
       "      <th>170</th>\n",
       "      <td>170</td>\n",
       "      <td>The problem like that can solve by word sense ...</td>\n",
       "      <td>In order to solve these problems (which are re...</td>\n",
       "      <td>40</td>\n",
       "    </tr>\n",
       "  </tbody>\n",
       "</table>\n",
       "<p>171 rows × 4 columns</p>\n",
       "</div>"
      ],
      "text/plain": [
       "      no                                          question1  \\\n",
       "0      0  If the question is IR-Based, I will do the fol...   \n",
       "1      1  If the question is IR-Based, I will do the fol...   \n",
       "2      2  If the question is IR-Based, I will do the fol...   \n",
       "3      3  If the question is IR-Based, I will do the fol...   \n",
       "4      4  If the question is IR-Based, I will do the fol...   \n",
       "..   ...                                                ...   \n",
       "166  166  The problem like that can solve by word sense ...   \n",
       "167  167  The problem like that can solve by word sense ...   \n",
       "168  168  The problem like that can solve by word sense ...   \n",
       "169  169  The problem like that can solve by word sense ...   \n",
       "170  170  The problem like that can solve by word sense ...   \n",
       "\n",
       "                                             question2  grade  \n",
       "0    Using semantic analysis methods. We can use ve...     25  \n",
       "1    we should use vector space model. firstly, bin...     25  \n",
       "2    Assume we have a question like \" Why the sky i...     50  \n",
       "3    We can use Vector Space Model that is represen...     25  \n",
       "4    In this corpus we will use sentence segmenting...     50  \n",
       "..                                                 ...    ...  \n",
       "166  Most important prob. are related to ambiguite...      0  \n",
       "167     Lexical WordNet ile zerim. Semantic Syntatic     40  \n",
       "168  These can be solved by using the rule based ma...     40  \n",
       "169  before translating a word that has many meanin...    100  \n",
       "170  In order to solve these problems (which are re...     40  \n",
       "\n",
       "[171 rows x 4 columns]"
      ]
     },
     "execution_count": 9,
     "metadata": {},
     "output_type": "execute_result"
    }
   ],
   "source": [
    "file_path = os.path.join(parent_dir, 'data', 'raw', 'CU-NLP.csv')\n",
    "cu_nlp = pd.read_csv(file_path, sep=';', encoding='latin1')\n",
    "cu_nlp"
   ]
  },
  {
   "cell_type": "markdown",
   "metadata": {},
   "source": [
    "### **Data Exploration**"
   ]
  },
  {
   "cell_type": "code",
   "execution_count": 10,
   "metadata": {},
   "outputs": [
    {
     "data": {
      "image/png": "[encoded data removed]",
      "text/plain": [
       "<Figure size 640x480 with 1 Axes>"
      ]
     },
     "metadata": {},
     "output_type": "display_data"
    }
   ],
   "source": [
    "cu_nlp['grade'].hist()\n",
    "\n",
    "plt.title('Histogram of Grades')\n",
    "plt.xlabel('Grade')\n",
    "plt.ylabel('Frequency')\n",
    "\n",
    "plt.show()"
   ]
  },
  {
   "cell_type": "code",
   "execution_count": 11,
   "metadata": {},
   "outputs": [
    {
     "data": {
      "text/plain": [
       "question1\n",
       "The problem like that can solve by word sense disambiguation. \\nTo do that: \\nFirstly, I will build or select raw lexical materials such as WordNet, BabelNet, etc. The sentence?s each word has a sense and each sense of the word is a node in WordNet. \\nSo, I will look up the nodes to relation. If some of the senses are not close enough to the others on the nodes, then I can say that this is not in a meaningful relationship with the others.                                                                                                                                                                                                                                                                                                                                                                                                                                                                         86\n",
       "If the question is IR-Based, I will do the following: \\nI can assume the question as a query. Because of having a very large text, I would segment these texts to shorter passages like paragraphs. Then, I need to find the relevant texts in the corpus. To find relatedness, I would apply one of some methods such as TF-IDF Similarity, Jaccard Index, Word embeddings, etc, on query and passages. At last, I need to rank these relevant passages to find the most related. To do that, I can sort the passages according to: \\n- The number of named entities of the right type in the passage. \\n- The number of question words and keywords in the passage. \\n- The keyword proximity between the question and each passage. \\n- The number of question N-grams that also in the passage. \\n- The number of sequences of question words' occurring in passages. etc. In that way, I can find the most relevant text.     56\n",
       "If the question is Knowledge-Based, I will do the following: \\nI can assume the question as a query. Because of having a very large text: \\nFirstly, I would segment these texts to shorter passages like paragraphs. \\nThen, I would build semantic representations to the query such as locations, dates, times, entities, numeric forms/quantities. \\nAt last, In order to determine the semantic relation between the question and passages, I would map these semantic representations between query and passages, using WordNet like lexical databases. \\nIn that way, I can find the most relevant text.                                                                                                                                                                                                                                                                                                                    27\n",
       "If the question is IR-Based, I will do the following: I can assume the question as a query. Because of having a very large text, I would segment these texts to shorter passages like paragraphs. Then, I need to find the relevant texts in the corpus. To find relatedness, I would apply one of some methods such as TF-IDF Similarity, Jaccard Index, Word embeddings, etc, on query and passages. At last, I need to rank these relevant passages to find the most related. To do that, I can sort the passages according to: - The number of named entities of the right type in the passage. - The number of question words and keywords in the passage. - The keyword proximity between the question and each passage. - The number of question N-grams that also in the passage. - The number of sequences of question words' occurring in passages. etc. In that way, I can find the most relevant text.                  1\n",
       "yIf the question is IR-Based, I will do the following: \\nI can assume the question as a query. Because of having a very large text, I would segment these texts to shorter passages like paragraphs. Then, I need to find the relevant texts in the corpus. To find relatedness, I would apply one of some methods such as TF-IDF Similarity, Jaccard Index, Word embeddings, etc, on query and passages. At last, I need to rank these relevant passages to find the most related. To do that, I can sort the passages according to: \\n- The number of named entities of the right type in the passage. \\n- The number of question words and keywords in the passage. \\n- The keyword proximity between the question and each passage. \\n- The number of question N-grams that also in the passage. \\n- The number of sequences of question words' occurring in passages. etc. In that way, I can find the most relevant text.     1\n",
       "Name: count, dtype: int64"
      ]
     },
     "execution_count": 11,
     "metadata": {},
     "output_type": "execute_result"
    }
   ],
   "source": [
    "cu_nlp['question1'].value_counts()"
   ]
  },
  {
   "cell_type": "code",
   "execution_count": 12,
   "metadata": {},
   "outputs": [
    {
     "data": {
      "text/plain": [
       "question2\n",
       "Using semantic analysis methods. We can use vector space model.                                                                                                                                                                                                                                                                                                                                                                                                                                                                                                                                                                   1\n",
       "There exists a semantic ambiguity due to the same word having more than one meanings. To solve this ambiguity, \"bag of nearby words\" way can be used which checks for dictionary definitions and appoints the most appropriate translation is given. For the given example, software will check for \"fisherman\" in dictionary and find \"sea\" related results therefore \"bank\" will have the correct translation.                                                                                                                                                                                                                  1\n",
       "The problem in this translator it only has one meaning for words. But words can have more meanings. In translation dictionarys such as wordnet has also different meaning for words. So we can use this as a source. In this case we can use N-Grams method with similarity. For example when we look at ?fisherman? word it should more used ?coast? meaning than ?instution? so the program can choose ?coast? meaning.                                                                                                                                                                                                         1\n",
       "we can use semantic and lexical similarities to solve this problem.We check previous and next words to find exact mean.For this we can train our system manually.If we give financial usage data.Also using sematic disambigation                                                                                                                                                                                                                                                                                                                                                                                                 1\n",
       "This is a semantic ambiguity. Wordnet based WSD is perfect for this situation.When we apply one of the word-net WSD relatedness methods with fisherman and bank, probably \"bank as a coast\" is more related to \"fisherman\" than \"bank as a money bank\"                                                                                                                                                                                                                                                                                                                                                                            1\n",
       "                                                                                                                                                                                                                                                                                                                                                                                                                                                                                                                                                                                                                                 ..\n",
       "In question answering systems, semantic analysis of the question happens in question processing phase. So, when we came to passage retrievel part, we already know the answer type and keywords of the question. The only thing will be done here is, searching keywords and question type(name, location) in passages and rank them according to their co-occurences. The passage with highest rank will be the most relevant document in my corpus.                                                                                                                                                                             1\n",
       "Bu yapy bir Question Answering sistemi gibi dnebiliriz. Question Answering ksa sorulara, ksa ve net cevaplar ureten bir sistemdir. Bu sistemlerin kullandklar ya web tabanldr yada kendi veri tabanlar vardr. Corpus'u kendi veri taban olarak dnursek; QA component' olan Passage retrievel sisteme sorulan sorunun cevabnn geebilece§i bir dkuman bulmaya alr. Bunu Question Processing'in oluturdu§u keywordler yardm ile, elindeki dkumanlar bir ranking algoritmas kullanarak, en byk rank de§erine sahip dkman en ilgili dokumandr olarak iaretler. Bizde bu ekilde bulabiliriz.    1\n",
       "We can do POS Tagging of Neighbour. If the tags same or related to our topic we check this part in the corpus. Second solution is surrounding bag of words. We check the bag of words and if it is related our topic. We found the text                                                                                                                                                                                                                                                                                                                                                                                           1\n",
       "We can look to Semantic relations between them.We find their synonym words of them and put in kind of vector Space model or look to the their (meronym,hyponym or hyprnym) neighboring words. From Semantic similaritiy levels we can use Sense Level for the most relevant text, or we can use Lexical-resources from word Level similarity and put this word in Jaccard Methods from Lexical similarity The Last way is a kind of Vector space Models but it will be hard because the text is so big, but we can find lemmas of sentence and look them with Binary weighting.                                                   1\n",
       "In order to solve these problems (which are related to ambiguities) we can use the Neural Machine Translation. => This type of machine translation consider the source sentence as one single unit and tries to determine its translation using Neural Networks. => The architecture of this NMT is : ( Please see the answer sheet ).                                                                                                                                                                                                                                                                                            1\n",
       "Name: count, Length: 171, dtype: int64"
      ]
     },
     "execution_count": 12,
     "metadata": {},
     "output_type": "execute_result"
    }
   ],
   "source": [
    "cu_nlp['question2'].value_counts()"
   ]
  },
  {
   "cell_type": "code",
   "execution_count": 17,
   "metadata": {},
   "outputs": [
    {
     "data": {
      "text/html": [
       "<div>\n",
       "<style scoped>\n",
       "    .dataframe tbody tr th:only-of-type {\n",
       "        vertical-align: middle;\n",
       "    }\n",
       "\n",
       "    .dataframe tbody tr th {\n",
       "        vertical-align: top;\n",
       "    }\n",
       "\n",
       "    .dataframe thead th {\n",
       "        text-align: right;\n",
       "    }\n",
       "</style>\n",
       "<table border=\"1\" class=\"dataframe\">\n",
       "  <thead>\n",
       "    <tr style=\"text-align: right;\">\n",
       "      <th></th>\n",
       "      <th>no</th>\n",
       "      <th>question1</th>\n",
       "      <th>question2</th>\n",
       "      <th>grade</th>\n",
       "      <th>lang</th>\n",
       "    </tr>\n",
       "  </thead>\n",
       "  <tbody>\n",
       "    <tr>\n",
       "      <th>0</th>\n",
       "      <td>0</td>\n",
       "      <td>If the question is IR-Based, I will do the fol...</td>\n",
       "      <td>Using semantic analysis methods. We can use ve...</td>\n",
       "      <td>25</td>\n",
       "      <td>en</td>\n",
       "    </tr>\n",
       "    <tr>\n",
       "      <th>1</th>\n",
       "      <td>1</td>\n",
       "      <td>If the question is IR-Based, I will do the fol...</td>\n",
       "      <td>we should use vector space model. firstly, bin...</td>\n",
       "      <td>25</td>\n",
       "      <td>en</td>\n",
       "    </tr>\n",
       "    <tr>\n",
       "      <th>2</th>\n",
       "      <td>2</td>\n",
       "      <td>If the question is IR-Based, I will do the fol...</td>\n",
       "      <td>Assume we have a question like \" Why the sky i...</td>\n",
       "      <td>50</td>\n",
       "      <td>en</td>\n",
       "    </tr>\n",
       "    <tr>\n",
       "      <th>3</th>\n",
       "      <td>3</td>\n",
       "      <td>If the question is IR-Based, I will do the fol...</td>\n",
       "      <td>We can use Vector Space Model that is represen...</td>\n",
       "      <td>25</td>\n",
       "      <td>en</td>\n",
       "    </tr>\n",
       "    <tr>\n",
       "      <th>4</th>\n",
       "      <td>4</td>\n",
       "      <td>If the question is IR-Based, I will do the fol...</td>\n",
       "      <td>In this corpus we will use sentence segmenting...</td>\n",
       "      <td>50</td>\n",
       "      <td>en</td>\n",
       "    </tr>\n",
       "    <tr>\n",
       "      <th>...</th>\n",
       "      <td>...</td>\n",
       "      <td>...</td>\n",
       "      <td>...</td>\n",
       "      <td>...</td>\n",
       "      <td>...</td>\n",
       "    </tr>\n",
       "    <tr>\n",
       "      <th>166</th>\n",
       "      <td>166</td>\n",
       "      <td>The problem like that can solve by word sense ...</td>\n",
       "      <td>Most important prob. are related to ambiguite...</td>\n",
       "      <td>0</td>\n",
       "      <td>en</td>\n",
       "    </tr>\n",
       "    <tr>\n",
       "      <th>167</th>\n",
       "      <td>167</td>\n",
       "      <td>The problem like that can solve by word sense ...</td>\n",
       "      <td>Lexical WordNet ile zerim. Semantic Syntatic</td>\n",
       "      <td>40</td>\n",
       "      <td>en</td>\n",
       "    </tr>\n",
       "    <tr>\n",
       "      <th>168</th>\n",
       "      <td>168</td>\n",
       "      <td>The problem like that can solve by word sense ...</td>\n",
       "      <td>These can be solved by using the rule based ma...</td>\n",
       "      <td>40</td>\n",
       "      <td>en</td>\n",
       "    </tr>\n",
       "    <tr>\n",
       "      <th>169</th>\n",
       "      <td>169</td>\n",
       "      <td>The problem like that can solve by word sense ...</td>\n",
       "      <td>before translating a word that has many meanin...</td>\n",
       "      <td>100</td>\n",
       "      <td>en</td>\n",
       "    </tr>\n",
       "    <tr>\n",
       "      <th>170</th>\n",
       "      <td>170</td>\n",
       "      <td>The problem like that can solve by word sense ...</td>\n",
       "      <td>In order to solve these problems (which are re...</td>\n",
       "      <td>40</td>\n",
       "      <td>en</td>\n",
       "    </tr>\n",
       "  </tbody>\n",
       "</table>\n",
       "<p>171 rows × 5 columns</p>\n",
       "</div>"
      ],
      "text/plain": [
       "      no                                          question1  \\\n",
       "0      0  If the question is IR-Based, I will do the fol...   \n",
       "1      1  If the question is IR-Based, I will do the fol...   \n",
       "2      2  If the question is IR-Based, I will do the fol...   \n",
       "3      3  If the question is IR-Based, I will do the fol...   \n",
       "4      4  If the question is IR-Based, I will do the fol...   \n",
       "..   ...                                                ...   \n",
       "166  166  The problem like that can solve by word sense ...   \n",
       "167  167  The problem like that can solve by word sense ...   \n",
       "168  168  The problem like that can solve by word sense ...   \n",
       "169  169  The problem like that can solve by word sense ...   \n",
       "170  170  The problem like that can solve by word sense ...   \n",
       "\n",
       "                                             question2  grade lang  \n",
       "0    Using semantic analysis methods. We can use ve...     25   en  \n",
       "1    we should use vector space model. firstly, bin...     25   en  \n",
       "2    Assume we have a question like \" Why the sky i...     50   en  \n",
       "3    We can use Vector Space Model that is represen...     25   en  \n",
       "4    In this corpus we will use sentence segmenting...     50   en  \n",
       "..                                                 ...    ...  ...  \n",
       "166  Most important prob. are related to ambiguite...      0   en  \n",
       "167     Lexical WordNet ile zerim. Semantic Syntatic     40   en  \n",
       "168  These can be solved by using the rule based ma...     40   en  \n",
       "169  before translating a word that has many meanin...    100   en  \n",
       "170  In order to solve these problems (which are re...     40   en  \n",
       "\n",
       "[171 rows x 5 columns]"
      ]
     },
     "execution_count": 17,
     "metadata": {},
     "output_type": "execute_result"
    }
   ],
   "source": [
    "cu_nlp['lang'] = cu_nlp['question2'].apply(detect_language)\n",
    "cu_nlp"
   ]
  },
  {
   "cell_type": "code",
   "execution_count": 18,
   "metadata": {},
   "outputs": [
    {
     "data": {
      "text/plain": [
       "lang\n",
       "en    141\n",
       "tr     27\n",
       "pl      1\n",
       "it      1\n",
       "de      1\n",
       "Name: count, dtype: int64"
      ]
     },
     "execution_count": 18,
     "metadata": {},
     "output_type": "execute_result"
    }
   ],
   "source": [
    "cu_nlp[\"lang\"].value_counts()"
   ]
  },
  {
   "cell_type": "markdown",
   "metadata": {},
   "source": [
    "### **Data Preprocessing**"
   ]
  },
  {
   "cell_type": "code",
   "execution_count": null,
   "metadata": {},
   "outputs": [],
   "source": []
  },
  {
   "cell_type": "code",
   "execution_count": null,
   "metadata": {},
   "outputs": [],
   "source": []
  },
  {
   "cell_type": "code",
   "execution_count": null,
   "metadata": {},
   "outputs": [],
   "source": []
  }
 ],
 "metadata": {
  "kernelspec": {
   "display_name": "Python 3",
   "language": "python",
   "name": "python3"
  },
  "language_info": {
   "codemirror_mode": {
    "name": "ipython",
    "version": 3
   },
   "file_extension": ".py",
   "mimetype": "text/x-python",
   "name": "python",
   "nbconvert_exporter": "python",
   "pygments_lexer": "ipython3",
   "version": "3.11.8"
  }
 },
 "nbformat": 4,
 "nbformat_minor": 2
}
