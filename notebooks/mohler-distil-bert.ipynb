{
  "cells": [
    {
      "cell_type": "code",
      "execution_count": 15,
      "metadata": {
        "id": "Q4E8VQI6wgEZ"
      },
      "outputs": [],
      "source": [
        "import torch\n",
        "import torch.nn as nn\n",
        "import numpy as np\n",
        "from sklearn.metrics import mean_squared_error, mean_absolute_error\n",
        "from sklearn.model_selection import LeaveOneOut\n",
        "from transformers import DistilBertModel, DistilBertTokenizer\n",
        "from torch.utils.data import TensorDataset, DataLoader, RandomSampler, SequentialSampler\n",
        "import pandas as pd\n",
        "from tqdm import tqdm\n",
        "from sklearn.model_selection import KFold\n",
        "\n",
        "\n",
        "data = pd.read_csv('mohler_dataset_edited.csv')\n",
        "\n",
        "# Load DistilBERT tokenizer and model\n",
        "tokenizer = DistilBertTokenizer.from_pretrained('distilbert-base-uncased')\n",
        "\n",
        "# Define device\n",
        "device = torch.device(\"cuda\" if torch.cuda.is_available() else \"cpu\")\n",
        "\n",
        "# Tokenize and prepare data\n",
        "def tokenize_data(data, max_seq_length=128):\n",
        "    input_ids = []\n",
        "    attention_masks = []\n",
        "    scores_list = []\n",
        "\n",
        "    for i in range(len(data)):\n",
        "        answer1_tokens = tokenizer.encode(data['desired_answer'].iloc[i], add_special_tokens=True)\n",
        "        answer2_tokens = tokenizer.encode(data['student_answer'].iloc[i], add_special_tokens=True)\n",
        "\n",
        "        # Truncate or pad the tokens to the specified max sequence length\n",
        "        answer1_tokens = answer1_tokens[:max_seq_length-2]  # -2 for [CLS] and [SEP] tokens\n",
        "        answer2_tokens = answer2_tokens[:max_seq_length-2]  # -2 for [CLS] and [SEP] tokens\n",
        "\n",
        "        # Add [CLS] and [SEP] tokens\n",
        "        answer1_tokens = [101] + answer1_tokens + [102]\n",
        "        answer2_tokens = [101] + answer2_tokens + [102]\n",
        "\n",
        "        # Padding\n",
        "        padding_length = max_seq_length - len(answer1_tokens)\n",
        "        padded_answer1 = answer1_tokens + [0] * padding_length\n",
        "        padding_length = max_seq_length - len(answer2_tokens)\n",
        "        padded_answer2 = answer2_tokens + [0] * padding_length\n",
        "\n",
        "        input_ids.append(padded_answer1)\n",
        "        attention_masks.append([1] * len(padded_answer1))\n",
        "\n",
        "        input_ids.append(padded_answer2)\n",
        "        attention_masks.append([1] * len(padded_answer2))\n",
        "\n",
        "        # Append the score twice for both answer1 and answer2\n",
        "        scores_list.append(data['score_avg'].iloc[i])\n",
        "        scores_list.append(data['score_avg'].iloc[i])\n",
        "\n",
        "    return torch.tensor(input_ids), torch.tensor(attention_masks), torch.tensor(scores_list, dtype=torch.float32)"
      ]
    },
    {
      "cell_type": "code",
      "execution_count": 16,
      "metadata": {
        "id": "wL3eJF_3yFA8"
      },
      "outputs": [],
      "source": [
        "class DistilBertRegression(nn.Module):\n",
        "    def __init__(self):\n",
        "        super(DistilBertRegression, self).__init__()\n",
        "        self.distilbert = DistilBertModel.from_pretrained('distilbert-base-uncased')\n",
        "        self.linear = nn.Linear(self.distilbert.config.hidden_size, 1)\n",
        "\n",
        "    def forward(self, input_ids, attention_mask):\n",
        "        outputs = self.distilbert(input_ids=input_ids, attention_mask=attention_mask)\n",
        "        pooled_output = outputs[0][:, 0, :]  \n",
        "        return self.linear(pooled_output)"
      ]
    },
    {
      "cell_type": "code",
      "execution_count": 18,
      "metadata": {
        "colab": {
          "base_uri": "https://localhost:8080/"
        },
        "id": "p-0G0ViE5QUu",
        "outputId": "ec1a4c25-59c3-4393-883a-3209fb815bfa"
      },
      "outputs": [
        {
          "name": "stdout",
          "output_type": "stream",
          "text": [
            "Evaluating using DistilBERT model...\n"
          ]
        },
        {
          "name": "stderr",
          "output_type": "stream",
          "text": [
            "Fold 1/10:   8%|▊         | 1/12 [00:53<09:43, 53.02s/it]"
          ]
        },
        {
          "name": "stdout",
          "output_type": "stream",
          "text": [
            "Fold 1/10: Epoch 1/12, RMSE: 1.2094, MAE: 1.0254, NRMSE: 0.2419\n"
          ]
        },
        {
          "name": "stderr",
          "output_type": "stream",
          "text": [
            "\rFold 1/10:  17%|█▋        | 2/12 [01:44<08:40, 52.05s/it]"
          ]
        },
        {
          "name": "stdout",
          "output_type": "stream",
          "text": [
            "Fold 1/10: Epoch 2/12, RMSE: 1.1849, MAE: 0.9639, NRMSE: 0.2370\n"
          ]
        },
        {
          "name": "stderr",
          "output_type": "stream",
          "text": [
            "\rFold 1/10:  25%|██▌       | 3/12 [02:36<07:47, 51.98s/it]"
          ]
        },
        {
          "name": "stdout",
          "output_type": "stream",
          "text": [
            "Fold 1/10: Epoch 3/12, RMSE: 1.2058, MAE: 0.9122, NRMSE: 0.2412\n"
          ]
        },
        {
          "name": "stderr",
          "output_type": "stream",
          "text": [
            "\rFold 1/10:  33%|███▎      | 4/12 [03:28<06:55, 51.92s/it]"
          ]
        },
        {
          "name": "stdout",
          "output_type": "stream",
          "text": [
            "Fold 1/10: Epoch 4/12, RMSE: 1.1844, MAE: 0.9511, NRMSE: 0.2369\n"
          ]
        },
        {
          "name": "stderr",
          "output_type": "stream",
          "text": [
            "\rFold 1/10:  42%|████▏     | 5/12 [04:20<06:03, 51.95s/it]"
          ]
        },
        {
          "name": "stdout",
          "output_type": "stream",
          "text": [
            "Fold 1/10: Epoch 5/12, RMSE: 1.1869, MAE: 0.9315, NRMSE: 0.2374\n"
          ]
        },
        {
          "name": "stderr",
          "output_type": "stream",
          "text": [
            "\rFold 1/10:  50%|█████     | 6/12 [05:11<05:11, 51.87s/it]"
          ]
        },
        {
          "name": "stdout",
          "output_type": "stream",
          "text": [
            "Fold 1/10: Epoch 6/12, RMSE: 1.1815, MAE: 0.9423, NRMSE: 0.2363\n"
          ]
        },
        {
          "name": "stderr",
          "output_type": "stream",
          "text": [
            "\rFold 1/10:  58%|█████▊    | 7/12 [06:03<04:18, 51.79s/it]"
          ]
        },
        {
          "name": "stdout",
          "output_type": "stream",
          "text": [
            "Fold 1/10: Epoch 7/12, RMSE: 1.1839, MAE: 0.9340, NRMSE: 0.2368\n"
          ]
        },
        {
          "name": "stderr",
          "output_type": "stream",
          "text": [
            "\rFold 1/10:  67%|██████▋   | 8/12 [06:55<03:27, 51.81s/it]"
          ]
        },
        {
          "name": "stdout",
          "output_type": "stream",
          "text": [
            "Fold 1/10: Epoch 8/12, RMSE: 1.2071, MAE: 0.8972, NRMSE: 0.2414\n"
          ]
        },
        {
          "name": "stderr",
          "output_type": "stream",
          "text": [
            "\rFold 1/10:  75%|███████▌  | 9/12 [07:47<02:35, 51.82s/it]"
          ]
        },
        {
          "name": "stdout",
          "output_type": "stream",
          "text": [
            "Fold 1/10: Epoch 9/12, RMSE: 1.1819, MAE: 0.8607, NRMSE: 0.2364\n"
          ]
        },
        {
          "name": "stderr",
          "output_type": "stream",
          "text": [
            "\rFold 1/10:  83%|████████▎ | 10/12 [08:39<01:43, 51.86s/it]"
          ]
        },
        {
          "name": "stdout",
          "output_type": "stream",
          "text": [
            "Fold 1/10: Epoch 10/12, RMSE: 1.1430, MAE: 0.9424, NRMSE: 0.2286\n"
          ]
        },
        {
          "name": "stderr",
          "output_type": "stream",
          "text": [
            "\rFold 1/10:  92%|█████████▏| 11/12 [09:31<00:51, 51.90s/it]"
          ]
        },
        {
          "name": "stdout",
          "output_type": "stream",
          "text": [
            "Fold 1/10: Epoch 11/12, RMSE: 1.1411, MAE: 0.9098, NRMSE: 0.2282\n"
          ]
        },
        {
          "name": "stderr",
          "output_type": "stream",
          "text": [
            "Fold 1/10: 100%|██████████| 12/12 [10:23<00:00, 51.92s/it]"
          ]
        },
        {
          "name": "stdout",
          "output_type": "stream",
          "text": [
            "Fold 1/10: Epoch 12/12, RMSE: 1.1365, MAE: 0.8609, NRMSE: 0.2273\n"
          ]
        },
        {
          "name": "stderr",
          "output_type": "stream",
          "text": [
            "\n",
            "Fold 2/10:   8%|▊         | 1/12 [00:52<09:32, 52.01s/it]"
          ]
        },
        {
          "name": "stdout",
          "output_type": "stream",
          "text": [
            "Fold 2/10: Epoch 1/12, RMSE: 1.1291, MAE: 0.8767, NRMSE: 0.2258\n"
          ]
        },
        {
          "name": "stderr",
          "output_type": "stream",
          "text": [
            "\rFold 2/10:  17%|█▋        | 2/12 [01:43<08:38, 51.87s/it]"
          ]
        },
        {
          "name": "stdout",
          "output_type": "stream",
          "text": [
            "Fold 2/10: Epoch 2/12, RMSE: 1.1266, MAE: 0.8862, NRMSE: 0.2253\n"
          ]
        },
        {
          "name": "stderr",
          "output_type": "stream",
          "text": [
            "\rFold 2/10:  25%|██▌       | 3/12 [02:35<07:46, 51.81s/it]"
          ]
        },
        {
          "name": "stdout",
          "output_type": "stream",
          "text": [
            "Fold 2/10: Epoch 3/12, RMSE: 1.1338, MAE: 0.8652, NRMSE: 0.2268\n"
          ]
        },
        {
          "name": "stderr",
          "output_type": "stream",
          "text": [
            "\rFold 2/10:  33%|███▎      | 4/12 [03:27<06:54, 51.83s/it]"
          ]
        },
        {
          "name": "stdout",
          "output_type": "stream",
          "text": [
            "Fold 2/10: Epoch 4/12, RMSE: 1.1290, MAE: 0.8779, NRMSE: 0.2258\n"
          ]
        },
        {
          "name": "stderr",
          "output_type": "stream",
          "text": [
            "\rFold 2/10:  42%|████▏     | 5/12 [04:19<06:03, 51.88s/it]"
          ]
        },
        {
          "name": "stdout",
          "output_type": "stream",
          "text": [
            "Fold 2/10: Epoch 5/12, RMSE: 1.1458, MAE: 0.8467, NRMSE: 0.2292\n"
          ]
        },
        {
          "name": "stderr",
          "output_type": "stream",
          "text": [
            "\rFold 2/10:  50%|█████     | 6/12 [05:11<05:11, 51.90s/it]"
          ]
        },
        {
          "name": "stdout",
          "output_type": "stream",
          "text": [
            "Fold 2/10: Epoch 6/12, RMSE: 1.1266, MAE: 0.8846, NRMSE: 0.2253\n"
          ]
        },
        {
          "name": "stderr",
          "output_type": "stream",
          "text": [
            "\rFold 2/10:  58%|█████▊    | 7/12 [06:03<04:19, 51.91s/it]"
          ]
        },
        {
          "name": "stdout",
          "output_type": "stream",
          "text": [
            "Fold 2/10: Epoch 7/12, RMSE: 1.1253, MAE: 0.8936, NRMSE: 0.2251\n"
          ]
        },
        {
          "name": "stderr",
          "output_type": "stream",
          "text": [
            "\rFold 2/10:  67%|██████▋   | 8/12 [06:55<03:27, 51.91s/it]"
          ]
        },
        {
          "name": "stdout",
          "output_type": "stream",
          "text": [
            "Fold 2/10: Epoch 8/12, RMSE: 1.1274, MAE: 0.9223, NRMSE: 0.2255\n"
          ]
        },
        {
          "name": "stderr",
          "output_type": "stream",
          "text": [
            "\rFold 2/10:  75%|███████▌  | 9/12 [07:47<02:35, 51.90s/it]"
          ]
        },
        {
          "name": "stdout",
          "output_type": "stream",
          "text": [
            "Fold 2/10: Epoch 9/12, RMSE: 1.1258, MAE: 0.8914, NRMSE: 0.2252\n"
          ]
        },
        {
          "name": "stderr",
          "output_type": "stream",
          "text": [
            "\rFold 2/10:  83%|████████▎ | 10/12 [08:38<01:43, 51.89s/it]"
          ]
        },
        {
          "name": "stdout",
          "output_type": "stream",
          "text": [
            "Fold 2/10: Epoch 10/12, RMSE: 1.1291, MAE: 0.8770, NRMSE: 0.2258\n"
          ]
        },
        {
          "name": "stderr",
          "output_type": "stream",
          "text": [
            "\rFold 2/10:  92%|█████████▏| 11/12 [09:30<00:51, 51.88s/it]"
          ]
        },
        {
          "name": "stdout",
          "output_type": "stream",
          "text": [
            "Fold 2/10: Epoch 11/12, RMSE: 1.1293, MAE: 0.8751, NRMSE: 0.2259\n"
          ]
        },
        {
          "name": "stderr",
          "output_type": "stream",
          "text": [
            "Fold 2/10: 100%|██████████| 12/12 [10:22<00:00, 51.88s/it]"
          ]
        },
        {
          "name": "stdout",
          "output_type": "stream",
          "text": [
            "Fold 2/10: Epoch 12/12, RMSE: 1.1518, MAE: 0.8398, NRMSE: 0.2304\n"
          ]
        },
        {
          "name": "stderr",
          "output_type": "stream",
          "text": [
            "\n",
            "Fold 3/10:   8%|▊         | 1/12 [00:52<09:32, 52.00s/it]"
          ]
        },
        {
          "name": "stdout",
          "output_type": "stream",
          "text": [
            "Fold 3/10: Epoch 1/12, RMSE: 0.9768, MAE: 0.7843, NRMSE: 0.2442\n"
          ]
        },
        {
          "name": "stderr",
          "output_type": "stream",
          "text": [
            "\rFold 3/10:  17%|█▋        | 2/12 [01:43<08:38, 51.81s/it]"
          ]
        },
        {
          "name": "stdout",
          "output_type": "stream",
          "text": [
            "Fold 3/10: Epoch 2/12, RMSE: 0.9830, MAE: 0.8384, NRMSE: 0.2458\n"
          ]
        },
        {
          "name": "stderr",
          "output_type": "stream",
          "text": [
            "\rFold 3/10:  25%|██▌       | 3/12 [02:35<07:47, 51.90s/it]"
          ]
        },
        {
          "name": "stdout",
          "output_type": "stream",
          "text": [
            "Fold 3/10: Epoch 3/12, RMSE: 0.9953, MAE: 0.8706, NRMSE: 0.2488\n"
          ]
        },
        {
          "name": "stderr",
          "output_type": "stream",
          "text": [
            "\rFold 3/10:  33%|███▎      | 4/12 [03:27<06:55, 51.99s/it]"
          ]
        },
        {
          "name": "stdout",
          "output_type": "stream",
          "text": [
            "Fold 3/10: Epoch 4/12, RMSE: 0.9423, MAE: 0.7931, NRMSE: 0.2356\n"
          ]
        },
        {
          "name": "stderr",
          "output_type": "stream",
          "text": [
            "\rFold 3/10:  42%|████▏     | 5/12 [04:19<06:04, 52.01s/it]"
          ]
        },
        {
          "name": "stdout",
          "output_type": "stream",
          "text": [
            "Fold 3/10: Epoch 5/12, RMSE: 0.9647, MAE: 0.8339, NRMSE: 0.2412\n"
          ]
        },
        {
          "name": "stderr",
          "output_type": "stream",
          "text": [
            "\rFold 3/10:  50%|█████     | 6/12 [05:11<05:12, 52.02s/it]"
          ]
        },
        {
          "name": "stdout",
          "output_type": "stream",
          "text": [
            "Fold 3/10: Epoch 6/12, RMSE: 0.8721, MAE: 0.6853, NRMSE: 0.2180\n"
          ]
        },
        {
          "name": "stderr",
          "output_type": "stream",
          "text": [
            "\rFold 3/10:  58%|█████▊    | 7/12 [06:03<04:20, 52.00s/it]"
          ]
        },
        {
          "name": "stdout",
          "output_type": "stream",
          "text": [
            "Fold 3/10: Epoch 7/12, RMSE: 0.8603, MAE: 0.6601, NRMSE: 0.2151\n"
          ]
        },
        {
          "name": "stderr",
          "output_type": "stream",
          "text": [
            "\rFold 3/10:  67%|██████▋   | 8/12 [06:55<03:27, 52.00s/it]"
          ]
        },
        {
          "name": "stdout",
          "output_type": "stream",
          "text": [
            "Fold 3/10: Epoch 8/12, RMSE: 0.8531, MAE: 0.6820, NRMSE: 0.2133\n"
          ]
        },
        {
          "name": "stderr",
          "output_type": "stream",
          "text": [
            "\rFold 3/10:  75%|███████▌  | 9/12 [07:47<02:35, 51.98s/it]"
          ]
        },
        {
          "name": "stdout",
          "output_type": "stream",
          "text": [
            "Fold 3/10: Epoch 9/12, RMSE: 0.8653, MAE: 0.6918, NRMSE: 0.2163\n"
          ]
        },
        {
          "name": "stderr",
          "output_type": "stream",
          "text": [
            "\rFold 3/10:  83%|████████▎ | 10/12 [08:39<01:43, 51.97s/it]"
          ]
        },
        {
          "name": "stdout",
          "output_type": "stream",
          "text": [
            "Fold 3/10: Epoch 10/12, RMSE: 0.8271, MAE: 0.6217, NRMSE: 0.2068\n"
          ]
        },
        {
          "name": "stderr",
          "output_type": "stream",
          "text": [
            "\rFold 3/10:  92%|█████████▏| 11/12 [09:31<00:51, 51.96s/it]"
          ]
        },
        {
          "name": "stdout",
          "output_type": "stream",
          "text": [
            "Fold 3/10: Epoch 11/12, RMSE: 0.9528, MAE: 0.8247, NRMSE: 0.2382\n"
          ]
        },
        {
          "name": "stderr",
          "output_type": "stream",
          "text": [
            "Fold 3/10: 100%|██████████| 12/12 [10:23<00:00, 51.97s/it]"
          ]
        },
        {
          "name": "stdout",
          "output_type": "stream",
          "text": [
            "Fold 3/10: Epoch 12/12, RMSE: 0.8643, MAE: 0.6293, NRMSE: 0.2161\n"
          ]
        },
        {
          "name": "stderr",
          "output_type": "stream",
          "text": [
            "\n",
            "Fold 4/10:   8%|▊         | 1/12 [00:52<09:32, 52.02s/it]"
          ]
        },
        {
          "name": "stdout",
          "output_type": "stream",
          "text": [
            "Fold 4/10: Epoch 1/12, RMSE: 1.0243, MAE: 0.9013, NRMSE: 0.2927\n"
          ]
        },
        {
          "name": "stderr",
          "output_type": "stream",
          "text": [
            "\rFold 4/10:  17%|█▋        | 2/12 [01:43<08:37, 51.79s/it]"
          ]
        },
        {
          "name": "stdout",
          "output_type": "stream",
          "text": [
            "Fold 4/10: Epoch 2/12, RMSE: 1.0345, MAE: 0.7872, NRMSE: 0.2956\n"
          ]
        },
        {
          "name": "stderr",
          "output_type": "stream",
          "text": [
            "\rFold 4/10:  25%|██▌       | 3/12 [02:35<07:46, 51.81s/it]"
          ]
        },
        {
          "name": "stdout",
          "output_type": "stream",
          "text": [
            "Fold 4/10: Epoch 3/12, RMSE: 1.0335, MAE: 0.7447, NRMSE: 0.2953\n"
          ]
        },
        {
          "name": "stderr",
          "output_type": "stream",
          "text": [
            "\rFold 4/10:  33%|███▎      | 4/12 [03:27<06:54, 51.87s/it]"
          ]
        },
        {
          "name": "stdout",
          "output_type": "stream",
          "text": [
            "Fold 4/10: Epoch 4/12, RMSE: 0.9644, MAE: 0.7899, NRMSE: 0.2755\n"
          ]
        },
        {
          "name": "stderr",
          "output_type": "stream",
          "text": [
            "\rFold 4/10:  42%|████▏     | 5/12 [04:19<06:03, 51.93s/it]"
          ]
        },
        {
          "name": "stdout",
          "output_type": "stream",
          "text": [
            "Fold 4/10: Epoch 5/12, RMSE: 0.9544, MAE: 0.7047, NRMSE: 0.2727\n"
          ]
        },
        {
          "name": "stderr",
          "output_type": "stream",
          "text": [
            "\rFold 4/10:  50%|█████     | 6/12 [05:11<05:11, 51.99s/it]"
          ]
        },
        {
          "name": "stdout",
          "output_type": "stream",
          "text": [
            "Fold 4/10: Epoch 6/12, RMSE: 0.9713, MAE: 0.7393, NRMSE: 0.2775\n"
          ]
        },
        {
          "name": "stderr",
          "output_type": "stream",
          "text": [
            "\rFold 4/10:  58%|█████▊    | 7/12 [06:03<04:20, 52.04s/it]"
          ]
        },
        {
          "name": "stdout",
          "output_type": "stream",
          "text": [
            "Fold 4/10: Epoch 7/12, RMSE: 1.0658, MAE: 0.7487, NRMSE: 0.3045\n"
          ]
        },
        {
          "name": "stderr",
          "output_type": "stream",
          "text": [
            "\rFold 4/10:  67%|██████▋   | 8/12 [06:55<03:28, 52.07s/it]"
          ]
        },
        {
          "name": "stdout",
          "output_type": "stream",
          "text": [
            "Fold 4/10: Epoch 8/12, RMSE: 0.9207, MAE: 0.7322, NRMSE: 0.2631\n"
          ]
        },
        {
          "name": "stderr",
          "output_type": "stream",
          "text": [
            "\rFold 4/10:  75%|███████▌  | 9/12 [07:47<02:36, 52.06s/it]"
          ]
        },
        {
          "name": "stdout",
          "output_type": "stream",
          "text": [
            "Fold 4/10: Epoch 9/12, RMSE: 0.9901, MAE: 0.7586, NRMSE: 0.2829\n"
          ]
        },
        {
          "name": "stderr",
          "output_type": "stream",
          "text": [
            "\rFold 4/10:  83%|████████▎ | 10/12 [08:39<01:44, 52.05s/it]"
          ]
        },
        {
          "name": "stdout",
          "output_type": "stream",
          "text": [
            "Fold 4/10: Epoch 10/12, RMSE: 0.9585, MAE: 0.7071, NRMSE: 0.2739\n"
          ]
        },
        {
          "name": "stderr",
          "output_type": "stream",
          "text": [
            "\rFold 4/10:  92%|█████████▏| 11/12 [09:31<00:52, 52.03s/it]"
          ]
        },
        {
          "name": "stdout",
          "output_type": "stream",
          "text": [
            "Fold 4/10: Epoch 11/12, RMSE: 1.0451, MAE: 0.8433, NRMSE: 0.2986\n"
          ]
        },
        {
          "name": "stderr",
          "output_type": "stream",
          "text": [
            "Fold 4/10: 100%|██████████| 12/12 [10:23<00:00, 52.00s/it]"
          ]
        },
        {
          "name": "stdout",
          "output_type": "stream",
          "text": [
            "Fold 4/10: Epoch 12/12, RMSE: 0.9611, MAE: 0.7278, NRMSE: 0.2746\n"
          ]
        },
        {
          "name": "stderr",
          "output_type": "stream",
          "text": [
            "\n",
            "Fold 5/10:   8%|▊         | 1/12 [00:52<09:32, 52.00s/it]"
          ]
        },
        {
          "name": "stdout",
          "output_type": "stream",
          "text": [
            "Fold 5/10: Epoch 1/12, RMSE: 1.0644, MAE: 0.8924, NRMSE: 0.2129\n"
          ]
        },
        {
          "name": "stderr",
          "output_type": "stream",
          "text": [
            "\rFold 5/10:  17%|█▋        | 2/12 [01:43<08:37, 51.80s/it]"
          ]
        },
        {
          "name": "stdout",
          "output_type": "stream",
          "text": [
            "Fold 5/10: Epoch 2/12, RMSE: 1.0624, MAE: 0.8883, NRMSE: 0.2125\n"
          ]
        },
        {
          "name": "stderr",
          "output_type": "stream",
          "text": [
            "\rFold 5/10:  25%|██▌       | 3/12 [02:35<07:45, 51.75s/it]"
          ]
        },
        {
          "name": "stdout",
          "output_type": "stream",
          "text": [
            "Fold 5/10: Epoch 3/12, RMSE: 1.0631, MAE: 0.8841, NRMSE: 0.2126\n"
          ]
        },
        {
          "name": "stderr",
          "output_type": "stream",
          "text": [
            "\rFold 5/10:  33%|███▎      | 4/12 [03:27<06:54, 51.83s/it]"
          ]
        },
        {
          "name": "stdout",
          "output_type": "stream",
          "text": [
            "Fold 5/10: Epoch 4/12, RMSE: 1.0700, MAE: 0.8678, NRMSE: 0.2140\n"
          ]
        },
        {
          "name": "stderr",
          "output_type": "stream",
          "text": [
            "\rFold 5/10:  42%|████▏     | 5/12 [04:19<06:03, 51.91s/it]"
          ]
        },
        {
          "name": "stdout",
          "output_type": "stream",
          "text": [
            "Fold 5/10: Epoch 5/12, RMSE: 1.0709, MAE: 0.8580, NRMSE: 0.2142\n"
          ]
        },
        {
          "name": "stderr",
          "output_type": "stream",
          "text": [
            "\rFold 5/10:  50%|█████     | 6/12 [05:11<05:11, 51.94s/it]"
          ]
        },
        {
          "name": "stdout",
          "output_type": "stream",
          "text": [
            "Fold 5/10: Epoch 6/12, RMSE: 1.1035, MAE: 0.8033, NRMSE: 0.2207\n"
          ]
        },
        {
          "name": "stderr",
          "output_type": "stream",
          "text": [
            "\rFold 5/10:  58%|█████▊    | 7/12 [06:03<04:19, 51.95s/it]"
          ]
        },
        {
          "name": "stdout",
          "output_type": "stream",
          "text": [
            "Fold 5/10: Epoch 7/12, RMSE: 0.9953, MAE: 0.8093, NRMSE: 0.1991\n"
          ]
        },
        {
          "name": "stderr",
          "output_type": "stream",
          "text": [
            "\rFold 5/10:  67%|██████▋   | 8/12 [06:55<03:27, 51.98s/it]"
          ]
        },
        {
          "name": "stdout",
          "output_type": "stream",
          "text": [
            "Fold 5/10: Epoch 8/12, RMSE: 1.0172, MAE: 0.6803, NRMSE: 0.2034\n"
          ]
        },
        {
          "name": "stderr",
          "output_type": "stream",
          "text": [
            "\rFold 5/10:  75%|███████▌  | 9/12 [07:47<02:35, 51.99s/it]"
          ]
        },
        {
          "name": "stdout",
          "output_type": "stream",
          "text": [
            "Fold 5/10: Epoch 9/12, RMSE: 0.9341, MAE: 0.6795, NRMSE: 0.1868\n"
          ]
        },
        {
          "name": "stderr",
          "output_type": "stream",
          "text": [
            "\rFold 5/10:  83%|████████▎ | 10/12 [08:39<01:43, 51.99s/it]"
          ]
        },
        {
          "name": "stdout",
          "output_type": "stream",
          "text": [
            "Fold 5/10: Epoch 10/12, RMSE: 0.9295, MAE: 0.6814, NRMSE: 0.1859\n"
          ]
        },
        {
          "name": "stderr",
          "output_type": "stream",
          "text": [
            "\rFold 5/10:  92%|█████████▏| 11/12 [09:31<00:51, 52.00s/it]"
          ]
        },
        {
          "name": "stdout",
          "output_type": "stream",
          "text": [
            "Fold 5/10: Epoch 11/12, RMSE: 0.9420, MAE: 0.6820, NRMSE: 0.1884\n"
          ]
        },
        {
          "name": "stderr",
          "output_type": "stream",
          "text": [
            "Fold 5/10: 100%|██████████| 12/12 [10:23<00:00, 51.95s/it]"
          ]
        },
        {
          "name": "stdout",
          "output_type": "stream",
          "text": [
            "Fold 5/10: Epoch 12/12, RMSE: 0.9451, MAE: 0.6776, NRMSE: 0.1890\n"
          ]
        },
        {
          "name": "stderr",
          "output_type": "stream",
          "text": [
            "\n",
            "Fold 6/10:   8%|▊         | 1/12 [00:52<09:32, 52.05s/it]"
          ]
        },
        {
          "name": "stdout",
          "output_type": "stream",
          "text": [
            "Fold 6/10: Epoch 1/12, RMSE: 1.0910, MAE: 0.7975, NRMSE: 0.2182\n"
          ]
        },
        {
          "name": "stderr",
          "output_type": "stream",
          "text": [
            "\rFold 6/10:  17%|█▋        | 2/12 [01:44<08:40, 52.03s/it]"
          ]
        },
        {
          "name": "stdout",
          "output_type": "stream",
          "text": [
            "Fold 6/10: Epoch 2/12, RMSE: 1.0692, MAE: 0.8434, NRMSE: 0.2138\n"
          ]
        },
        {
          "name": "stderr",
          "output_type": "stream",
          "text": [
            "\rFold 6/10:  25%|██▌       | 3/12 [02:35<07:47, 51.90s/it]"
          ]
        },
        {
          "name": "stdout",
          "output_type": "stream",
          "text": [
            "Fold 6/10: Epoch 3/12, RMSE: 1.0805, MAE: 0.8131, NRMSE: 0.2161\n"
          ]
        },
        {
          "name": "stderr",
          "output_type": "stream",
          "text": [
            "\rFold 6/10:  33%|███▎      | 4/12 [03:27<06:54, 51.82s/it]"
          ]
        },
        {
          "name": "stdout",
          "output_type": "stream",
          "text": [
            "Fold 6/10: Epoch 4/12, RMSE: 1.0755, MAE: 0.9002, NRMSE: 0.2151\n"
          ]
        },
        {
          "name": "stderr",
          "output_type": "stream",
          "text": [
            "\rFold 6/10:  42%|████▏     | 5/12 [04:19<06:02, 51.83s/it]"
          ]
        },
        {
          "name": "stdout",
          "output_type": "stream",
          "text": [
            "Fold 6/10: Epoch 5/12, RMSE: 1.0579, MAE: 0.8532, NRMSE: 0.2116\n"
          ]
        },
        {
          "name": "stderr",
          "output_type": "stream",
          "text": [
            "\rFold 6/10:  50%|█████     | 6/12 [05:11<05:11, 51.88s/it]"
          ]
        },
        {
          "name": "stdout",
          "output_type": "stream",
          "text": [
            "Fold 6/10: Epoch 6/12, RMSE: 1.0154, MAE: 0.8134, NRMSE: 0.2031\n"
          ]
        },
        {
          "name": "stderr",
          "output_type": "stream",
          "text": [
            "\rFold 6/10:  58%|█████▊    | 7/12 [06:03<04:19, 51.90s/it]"
          ]
        },
        {
          "name": "stdout",
          "output_type": "stream",
          "text": [
            "Fold 6/10: Epoch 7/12, RMSE: 1.0619, MAE: 0.7033, NRMSE: 0.2124\n"
          ]
        },
        {
          "name": "stderr",
          "output_type": "stream",
          "text": [
            "\rFold 6/10:  67%|██████▋   | 8/12 [06:55<03:27, 51.91s/it]"
          ]
        },
        {
          "name": "stdout",
          "output_type": "stream",
          "text": [
            "Fold 6/10: Epoch 8/12, RMSE: 0.9873, MAE: 0.6819, NRMSE: 0.1975\n"
          ]
        },
        {
          "name": "stderr",
          "output_type": "stream",
          "text": [
            "\rFold 6/10:  75%|███████▌  | 9/12 [07:47<02:35, 51.93s/it]"
          ]
        },
        {
          "name": "stdout",
          "output_type": "stream",
          "text": [
            "Fold 6/10: Epoch 9/12, RMSE: 0.9533, MAE: 0.6615, NRMSE: 0.1907\n"
          ]
        },
        {
          "name": "stderr",
          "output_type": "stream",
          "text": [
            "\rFold 6/10:  83%|████████▎ | 10/12 [08:39<01:43, 51.93s/it]"
          ]
        },
        {
          "name": "stdout",
          "output_type": "stream",
          "text": [
            "Fold 6/10: Epoch 10/12, RMSE: 0.9803, MAE: 0.7585, NRMSE: 0.1961\n"
          ]
        },
        {
          "name": "stderr",
          "output_type": "stream",
          "text": [
            "\rFold 6/10:  92%|█████████▏| 11/12 [09:31<00:51, 51.94s/it]"
          ]
        },
        {
          "name": "stdout",
          "output_type": "stream",
          "text": [
            "Fold 6/10: Epoch 11/12, RMSE: 1.0823, MAE: 0.8416, NRMSE: 0.2165\n"
          ]
        },
        {
          "name": "stderr",
          "output_type": "stream",
          "text": [
            "Fold 6/10: 100%|██████████| 12/12 [10:23<00:00, 51.92s/it]"
          ]
        },
        {
          "name": "stdout",
          "output_type": "stream",
          "text": [
            "Fold 6/10: Epoch 12/12, RMSE: 0.9393, MAE: 0.7223, NRMSE: 0.1879\n"
          ]
        },
        {
          "name": "stderr",
          "output_type": "stream",
          "text": [
            "\n",
            "Fold 7/10:   8%|▊         | 1/12 [00:51<09:31, 51.98s/it]"
          ]
        },
        {
          "name": "stdout",
          "output_type": "stream",
          "text": [
            "Fold 7/10: Epoch 1/12, RMSE: 1.2045, MAE: 0.8758, NRMSE: 0.2409\n"
          ]
        },
        {
          "name": "stderr",
          "output_type": "stream",
          "text": [
            "\rFold 7/10:  17%|█▋        | 2/12 [01:43<08:38, 51.87s/it]"
          ]
        },
        {
          "name": "stdout",
          "output_type": "stream",
          "text": [
            "Fold 7/10: Epoch 2/12, RMSE: 1.1898, MAE: 0.8863, NRMSE: 0.2380\n"
          ]
        },
        {
          "name": "stderr",
          "output_type": "stream",
          "text": [
            "\rFold 7/10:  25%|██▌       | 3/12 [02:35<07:45, 51.78s/it]"
          ]
        },
        {
          "name": "stdout",
          "output_type": "stream",
          "text": [
            "Fold 7/10: Epoch 3/12, RMSE: 1.1636, MAE: 0.9264, NRMSE: 0.2327\n"
          ]
        },
        {
          "name": "stderr",
          "output_type": "stream",
          "text": [
            "\rFold 7/10:  33%|███▎      | 4/12 [03:27<06:54, 51.79s/it]"
          ]
        },
        {
          "name": "stdout",
          "output_type": "stream",
          "text": [
            "Fold 7/10: Epoch 4/12, RMSE: 1.1550, MAE: 0.9207, NRMSE: 0.2310\n"
          ]
        },
        {
          "name": "stderr",
          "output_type": "stream",
          "text": [
            "\rFold 7/10:  42%|████▏     | 5/12 [04:19<06:02, 51.82s/it]"
          ]
        },
        {
          "name": "stdout",
          "output_type": "stream",
          "text": [
            "Fold 7/10: Epoch 5/12, RMSE: 1.1284, MAE: 0.7978, NRMSE: 0.2257\n"
          ]
        },
        {
          "name": "stderr",
          "output_type": "stream",
          "text": [
            "\rFold 7/10:  50%|█████     | 6/12 [05:11<05:11, 51.86s/it]"
          ]
        },
        {
          "name": "stdout",
          "output_type": "stream",
          "text": [
            "Fold 7/10: Epoch 6/12, RMSE: 1.0450, MAE: 0.7806, NRMSE: 0.2090\n"
          ]
        },
        {
          "name": "stderr",
          "output_type": "stream",
          "text": [
            "\rFold 7/10:  58%|█████▊    | 7/12 [06:02<04:19, 51.86s/it]"
          ]
        },
        {
          "name": "stdout",
          "output_type": "stream",
          "text": [
            "Fold 7/10: Epoch 7/12, RMSE: 1.0185, MAE: 0.7743, NRMSE: 0.2037\n"
          ]
        },
        {
          "name": "stderr",
          "output_type": "stream",
          "text": [
            "\rFold 7/10:  67%|██████▋   | 8/12 [06:54<03:27, 51.87s/it]"
          ]
        },
        {
          "name": "stdout",
          "output_type": "stream",
          "text": [
            "Fold 7/10: Epoch 8/12, RMSE: 1.0054, MAE: 0.7483, NRMSE: 0.2011\n"
          ]
        },
        {
          "name": "stderr",
          "output_type": "stream",
          "text": [
            "\rFold 7/10:  75%|███████▌  | 9/12 [07:46<02:35, 51.86s/it]"
          ]
        },
        {
          "name": "stdout",
          "output_type": "stream",
          "text": [
            "Fold 7/10: Epoch 9/12, RMSE: 1.0479, MAE: 0.7046, NRMSE: 0.2096\n"
          ]
        },
        {
          "name": "stderr",
          "output_type": "stream",
          "text": [
            "\rFold 7/10:  83%|████████▎ | 10/12 [08:38<01:43, 51.87s/it]"
          ]
        },
        {
          "name": "stdout",
          "output_type": "stream",
          "text": [
            "Fold 7/10: Epoch 10/12, RMSE: 1.0034, MAE: 0.7524, NRMSE: 0.2007\n"
          ]
        },
        {
          "name": "stderr",
          "output_type": "stream",
          "text": [
            "\rFold 7/10:  92%|█████████▏| 11/12 [09:30<00:51, 51.88s/it]"
          ]
        },
        {
          "name": "stdout",
          "output_type": "stream",
          "text": [
            "Fold 7/10: Epoch 11/12, RMSE: 1.0222, MAE: 0.7015, NRMSE: 0.2044\n"
          ]
        },
        {
          "name": "stderr",
          "output_type": "stream",
          "text": [
            "Fold 7/10: 100%|██████████| 12/12 [10:22<00:00, 51.86s/it]"
          ]
        },
        {
          "name": "stdout",
          "output_type": "stream",
          "text": [
            "Fold 7/10: Epoch 12/12, RMSE: 1.0182, MAE: 0.7228, NRMSE: 0.2036\n"
          ]
        },
        {
          "name": "stderr",
          "output_type": "stream",
          "text": [
            "\n",
            "Fold 8/10:   8%|▊         | 1/12 [00:51<09:31, 52.00s/it]"
          ]
        },
        {
          "name": "stdout",
          "output_type": "stream",
          "text": [
            "Fold 8/10: Epoch 1/12, RMSE: 1.1968, MAE: 0.9425, NRMSE: 0.2394\n"
          ]
        },
        {
          "name": "stderr",
          "output_type": "stream",
          "text": [
            "\rFold 8/10:  17%|█▋        | 2/12 [01:43<08:38, 51.81s/it]"
          ]
        },
        {
          "name": "stdout",
          "output_type": "stream",
          "text": [
            "Fold 8/10: Epoch 2/12, RMSE: 1.2930, MAE: 0.9118, NRMSE: 0.2586\n"
          ]
        },
        {
          "name": "stderr",
          "output_type": "stream",
          "text": [
            "\rFold 8/10:  25%|██▌       | 3/12 [02:35<07:45, 51.73s/it]"
          ]
        },
        {
          "name": "stdout",
          "output_type": "stream",
          "text": [
            "Fold 8/10: Epoch 3/12, RMSE: 1.2089, MAE: 0.9354, NRMSE: 0.2418\n"
          ]
        },
        {
          "name": "stderr",
          "output_type": "stream",
          "text": [
            "\rFold 8/10:  33%|███▎      | 4/12 [03:26<06:53, 51.70s/it]"
          ]
        },
        {
          "name": "stdout",
          "output_type": "stream",
          "text": [
            "Fold 8/10: Epoch 4/12, RMSE: 1.2005, MAE: 0.9428, NRMSE: 0.2401\n"
          ]
        },
        {
          "name": "stderr",
          "output_type": "stream",
          "text": [
            "\rFold 8/10:  42%|████▏     | 5/12 [04:18<06:01, 51.70s/it]"
          ]
        },
        {
          "name": "stdout",
          "output_type": "stream",
          "text": [
            "Fold 8/10: Epoch 5/12, RMSE: 1.2021, MAE: 0.9409, NRMSE: 0.2404\n"
          ]
        },
        {
          "name": "stderr",
          "output_type": "stream",
          "text": [
            "\rFold 8/10:  50%|█████     | 6/12 [05:10<05:10, 51.71s/it]"
          ]
        },
        {
          "name": "stdout",
          "output_type": "stream",
          "text": [
            "Fold 8/10: Epoch 6/12, RMSE: 1.2675, MAE: 0.9090, NRMSE: 0.2535\n"
          ]
        },
        {
          "name": "stderr",
          "output_type": "stream",
          "text": [
            "\rFold 8/10:  58%|█████▊    | 7/12 [06:02<04:18, 51.70s/it]"
          ]
        },
        {
          "name": "stdout",
          "output_type": "stream",
          "text": [
            "Fold 8/10: Epoch 7/12, RMSE: 1.1413, MAE: 0.8702, NRMSE: 0.2283\n"
          ]
        },
        {
          "name": "stderr",
          "output_type": "stream",
          "text": [
            "\rFold 8/10:  67%|██████▋   | 8/12 [06:53<03:26, 51.74s/it]"
          ]
        },
        {
          "name": "stdout",
          "output_type": "stream",
          "text": [
            "Fold 8/10: Epoch 8/12, RMSE: 1.1656, MAE: 0.8099, NRMSE: 0.2331\n"
          ]
        },
        {
          "name": "stderr",
          "output_type": "stream",
          "text": [
            "\rFold 8/10:  75%|███████▌  | 9/12 [07:45<02:35, 51.77s/it]"
          ]
        },
        {
          "name": "stdout",
          "output_type": "stream",
          "text": [
            "Fold 8/10: Epoch 9/12, RMSE: 1.0466, MAE: 0.8386, NRMSE: 0.2093\n"
          ]
        },
        {
          "name": "stderr",
          "output_type": "stream",
          "text": [
            "\rFold 8/10:  83%|████████▎ | 10/12 [08:37<01:43, 51.79s/it]"
          ]
        },
        {
          "name": "stdout",
          "output_type": "stream",
          "text": [
            "Fold 8/10: Epoch 10/12, RMSE: 1.0382, MAE: 0.8321, NRMSE: 0.2076\n"
          ]
        },
        {
          "name": "stderr",
          "output_type": "stream",
          "text": [
            "\rFold 8/10:  92%|█████████▏| 11/12 [09:29<00:51, 51.80s/it]"
          ]
        },
        {
          "name": "stdout",
          "output_type": "stream",
          "text": [
            "Fold 8/10: Epoch 11/12, RMSE: 1.0627, MAE: 0.7554, NRMSE: 0.2125\n"
          ]
        },
        {
          "name": "stderr",
          "output_type": "stream",
          "text": [
            "Fold 8/10: 100%|██████████| 12/12 [10:21<00:00, 51.77s/it]"
          ]
        },
        {
          "name": "stdout",
          "output_type": "stream",
          "text": [
            "Fold 8/10: Epoch 12/12, RMSE: 1.0826, MAE: 0.7425, NRMSE: 0.2165\n"
          ]
        },
        {
          "name": "stderr",
          "output_type": "stream",
          "text": [
            "\n",
            "Fold 9/10:   8%|▊         | 1/12 [00:51<09:31, 51.99s/it]"
          ]
        },
        {
          "name": "stdout",
          "output_type": "stream",
          "text": [
            "Fold 9/10: Epoch 1/12, RMSE: 1.2121, MAE: 0.8433, NRMSE: 0.2424\n"
          ]
        },
        {
          "name": "stderr",
          "output_type": "stream",
          "text": [
            "\rFold 9/10:  17%|█▋        | 2/12 [01:43<08:39, 51.92s/it]"
          ]
        },
        {
          "name": "stdout",
          "output_type": "stream",
          "text": [
            "Fold 9/10: Epoch 2/12, RMSE: 1.1292, MAE: 0.8397, NRMSE: 0.2258\n"
          ]
        },
        {
          "name": "stderr",
          "output_type": "stream",
          "text": [
            "\rFold 9/10:  25%|██▌       | 3/12 [02:35<07:46, 51.81s/it]"
          ]
        },
        {
          "name": "stdout",
          "output_type": "stream",
          "text": [
            "Fold 9/10: Epoch 3/12, RMSE: 1.0849, MAE: 0.8299, NRMSE: 0.2170\n"
          ]
        },
        {
          "name": "stderr",
          "output_type": "stream",
          "text": [
            "\rFold 9/10:  33%|███▎      | 4/12 [03:27<06:54, 51.82s/it]"
          ]
        },
        {
          "name": "stdout",
          "output_type": "stream",
          "text": [
            "Fold 9/10: Epoch 4/12, RMSE: 1.0467, MAE: 0.7946, NRMSE: 0.2093\n"
          ]
        },
        {
          "name": "stderr",
          "output_type": "stream",
          "text": [
            "\rFold 9/10:  42%|████▏     | 5/12 [04:19<06:02, 51.85s/it]"
          ]
        },
        {
          "name": "stdout",
          "output_type": "stream",
          "text": [
            "Fold 9/10: Epoch 5/12, RMSE: 1.0662, MAE: 0.8146, NRMSE: 0.2132\n"
          ]
        },
        {
          "name": "stderr",
          "output_type": "stream",
          "text": [
            "\rFold 9/10:  50%|█████     | 6/12 [05:11<05:11, 51.88s/it]"
          ]
        },
        {
          "name": "stdout",
          "output_type": "stream",
          "text": [
            "Fold 9/10: Epoch 6/12, RMSE: 1.0362, MAE: 0.7123, NRMSE: 0.2072\n"
          ]
        },
        {
          "name": "stderr",
          "output_type": "stream",
          "text": [
            "\rFold 9/10:  58%|█████▊    | 7/12 [06:03<04:19, 51.91s/it]"
          ]
        },
        {
          "name": "stdout",
          "output_type": "stream",
          "text": [
            "Fold 9/10: Epoch 7/12, RMSE: 1.0161, MAE: 0.7290, NRMSE: 0.2032\n"
          ]
        },
        {
          "name": "stderr",
          "output_type": "stream",
          "text": [
            "\rFold 9/10:  67%|██████▋   | 8/12 [06:55<03:27, 51.93s/it]"
          ]
        },
        {
          "name": "stdout",
          "output_type": "stream",
          "text": [
            "Fold 9/10: Epoch 8/12, RMSE: 1.0130, MAE: 0.6765, NRMSE: 0.2026\n"
          ]
        },
        {
          "name": "stderr",
          "output_type": "stream",
          "text": [
            "\rFold 9/10:  75%|███████▌  | 9/12 [07:47<02:35, 51.95s/it]"
          ]
        },
        {
          "name": "stdout",
          "output_type": "stream",
          "text": [
            "Fold 9/10: Epoch 9/12, RMSE: 1.0209, MAE: 0.6689, NRMSE: 0.2042\n"
          ]
        },
        {
          "name": "stderr",
          "output_type": "stream",
          "text": [
            "\rFold 9/10:  83%|████████▎ | 10/12 [08:39<01:43, 51.97s/it]"
          ]
        },
        {
          "name": "stdout",
          "output_type": "stream",
          "text": [
            "Fold 9/10: Epoch 10/12, RMSE: 1.0353, MAE: 0.6699, NRMSE: 0.2071\n"
          ]
        },
        {
          "name": "stderr",
          "output_type": "stream",
          "text": [
            "\rFold 9/10:  92%|█████████▏| 11/12 [09:31<00:51, 51.97s/it]"
          ]
        },
        {
          "name": "stdout",
          "output_type": "stream",
          "text": [
            "Fold 9/10: Epoch 11/12, RMSE: 1.0407, MAE: 0.6665, NRMSE: 0.2081\n"
          ]
        },
        {
          "name": "stderr",
          "output_type": "stream",
          "text": [
            "Fold 9/10: 100%|██████████| 12/12 [10:23<00:00, 51.93s/it]"
          ]
        },
        {
          "name": "stdout",
          "output_type": "stream",
          "text": [
            "Fold 9/10: Epoch 12/12, RMSE: 1.0219, MAE: 0.7287, NRMSE: 0.2044\n"
          ]
        },
        {
          "name": "stderr",
          "output_type": "stream",
          "text": [
            "\n",
            "Fold 10/10:   8%|▊         | 1/12 [00:52<09:32, 52.07s/it]"
          ]
        },
        {
          "name": "stdout",
          "output_type": "stream",
          "text": [
            "Fold 10/10: Epoch 1/12, RMSE: 1.0941, MAE: 0.9100, NRMSE: 0.2188\n"
          ]
        },
        {
          "name": "stderr",
          "output_type": "stream",
          "text": [
            "\rFold 10/10:  17%|█▋        | 2/12 [01:43<08:38, 51.81s/it]"
          ]
        },
        {
          "name": "stdout",
          "output_type": "stream",
          "text": [
            "Fold 10/10: Epoch 2/12, RMSE: 1.0903, MAE: 0.8895, NRMSE: 0.2181\n"
          ]
        },
        {
          "name": "stderr",
          "output_type": "stream",
          "text": [
            "\rFold 10/10:  25%|██▌       | 3/12 [02:35<07:46, 51.82s/it]"
          ]
        },
        {
          "name": "stdout",
          "output_type": "stream",
          "text": [
            "Fold 10/10: Epoch 3/12, RMSE: 1.1127, MAE: 0.9703, NRMSE: 0.2225\n"
          ]
        },
        {
          "name": "stderr",
          "output_type": "stream",
          "text": [
            "\rFold 10/10:  33%|███▎      | 4/12 [03:27<06:55, 51.90s/it]"
          ]
        },
        {
          "name": "stdout",
          "output_type": "stream",
          "text": [
            "Fold 10/10: Epoch 4/12, RMSE: 1.0621, MAE: 0.8877, NRMSE: 0.2124\n"
          ]
        },
        {
          "name": "stderr",
          "output_type": "stream",
          "text": [
            "\rFold 10/10:  42%|████▏     | 5/12 [04:19<06:03, 51.99s/it]"
          ]
        },
        {
          "name": "stdout",
          "output_type": "stream",
          "text": [
            "Fold 10/10: Epoch 5/12, RMSE: 0.9966, MAE: 0.6963, NRMSE: 0.1993\n"
          ]
        },
        {
          "name": "stderr",
          "output_type": "stream",
          "text": [
            "\rFold 10/10:  50%|█████     | 6/12 [05:11<05:12, 52.06s/it]"
          ]
        },
        {
          "name": "stdout",
          "output_type": "stream",
          "text": [
            "Fold 10/10: Epoch 6/12, RMSE: 1.0272, MAE: 0.7104, NRMSE: 0.2054\n"
          ]
        },
        {
          "name": "stderr",
          "output_type": "stream",
          "text": [
            "\rFold 10/10:  58%|█████▊    | 7/12 [06:03<04:20, 52.06s/it]"
          ]
        },
        {
          "name": "stdout",
          "output_type": "stream",
          "text": [
            "Fold 10/10: Epoch 7/12, RMSE: 1.0042, MAE: 0.7496, NRMSE: 0.2008\n"
          ]
        },
        {
          "name": "stderr",
          "output_type": "stream",
          "text": [
            "\rFold 10/10:  67%|██████▋   | 8/12 [06:56<03:28, 52.06s/it]"
          ]
        },
        {
          "name": "stdout",
          "output_type": "stream",
          "text": [
            "Fold 10/10: Epoch 8/12, RMSE: 1.0040, MAE: 0.7911, NRMSE: 0.2008\n"
          ]
        },
        {
          "name": "stderr",
          "output_type": "stream",
          "text": [
            "\rFold 10/10:  75%|███████▌  | 9/12 [07:48<02:36, 52.07s/it]"
          ]
        },
        {
          "name": "stdout",
          "output_type": "stream",
          "text": [
            "Fold 10/10: Epoch 9/12, RMSE: 1.0223, MAE: 0.6971, NRMSE: 0.2045\n"
          ]
        },
        {
          "name": "stderr",
          "output_type": "stream",
          "text": [
            "\rFold 10/10:  83%|████████▎ | 10/12 [08:40<01:44, 52.07s/it]"
          ]
        },
        {
          "name": "stdout",
          "output_type": "stream",
          "text": [
            "Fold 10/10: Epoch 10/12, RMSE: 1.0570, MAE: 0.7730, NRMSE: 0.2114\n"
          ]
        },
        {
          "name": "stderr",
          "output_type": "stream",
          "text": [
            "\rFold 10/10:  92%|█████████▏| 11/12 [09:32<00:52, 52.07s/it]"
          ]
        },
        {
          "name": "stdout",
          "output_type": "stream",
          "text": [
            "Fold 10/10: Epoch 11/12, RMSE: 0.9931, MAE: 0.6722, NRMSE: 0.1986\n"
          ]
        },
        {
          "name": "stderr",
          "output_type": "stream",
          "text": [
            "Fold 10/10: 100%|██████████| 12/12 [10:24<00:00, 52.03s/it]"
          ]
        },
        {
          "name": "stdout",
          "output_type": "stream",
          "text": [
            "Fold 10/10: Epoch 12/12, RMSE: 1.0042, MAE: 0.6846, NRMSE: 0.2008\n",
            "   DistilBERT_RMSE  DistilBERT_MAE  DistilBERT_NRMSE\n",
            "0         1.060811        0.808247          0.225245\n"
          ]
        },
        {
          "name": "stderr",
          "output_type": "stream",
          "text": [
            "\n"
          ]
        }
      ],
      "source": [
        "learning_rate = 2e-5\n",
        "batch_size = 16\n",
        "epochs = 12\n",
        "weight_decay = 0.01  \n",
        "\n",
        "kf = KFold(n_splits=10, shuffle=True)\n",
        "\n",
        "models = {\n",
        "    'DistilBERT': DistilBertRegression,\n",
        "    # Add RoBERTa and BERT models here\n",
        "}\n",
        "\n",
        "evaluation_results = []\n",
        "\n",
        "shuffled_data = data.sample(frac=1).reset_index(drop=True)\n",
        "\n",
        "for model_name, ModelClass in models.items():  \n",
        "    print(f\"Evaluating using {model_name} model...\")\n",
        "\n",
        "    total_rmse = 0\n",
        "    total_mae = 0\n",
        "    total_nrmse = 0\n",
        "\n",
        "    fold_rmse = []\n",
        "    fold_mae = []\n",
        "    fold_nrmse = []\n",
        "\n",
        "    for fold_idx, (train_index, val_index) in enumerate(kf.split(shuffled_data), 1):\n",
        "        train_data = shuffled_data.iloc[train_index]\n",
        "        val_data = shuffled_data.iloc[val_index]\n",
        "\n",
        "        train_input_ids, train_attention_masks, train_scores = tokenize_data(train_data)\n",
        "        val_input_ids, val_attention_masks, val_scores = tokenize_data(val_data)\n",
        "\n",
        "        train_dataset = TensorDataset(train_input_ids, train_attention_masks, train_scores)\n",
        "        train_sampler = RandomSampler(train_dataset)\n",
        "        train_dataloader = DataLoader(train_dataset, sampler=train_sampler, batch_size=16)\n",
        "\n",
        "        val_dataset = TensorDataset(val_input_ids, val_attention_masks, val_scores)\n",
        "        val_sampler = SequentialSampler(val_dataset)\n",
        "        val_dataloader = DataLoader(val_dataset, sampler=val_sampler, batch_size=16)\n",
        "\n",
        "        model = ModelClass().to(device)\n",
        "        criterion = nn.MSELoss()\n",
        "        optimizer = torch.optim.Adam(model.parameters(), lr=learning_rate, weight_decay=weight_decay)  \n",
        "\n",
        "        for epoch in tqdm(range(epochs), desc=f\"Fold {fold_idx}/{kf.get_n_splits()}\"):  \n",
        "            model.train()\n",
        "            total_loss = 0\n",
        "\n",
        "            for batch in train_dataloader:\n",
        "                batch = tuple(t.to(device) for t in batch)\n",
        "                inputs, masks, labels = batch\n",
        "\n",
        "                optimizer.zero_grad()\n",
        "                outputs = model(inputs, masks)\n",
        "                loss = criterion(outputs.squeeze(-1), labels)\n",
        "                loss.backward()\n",
        "                optimizer.step()\n",
        "\n",
        "                total_loss += loss.item()\n",
        "\n",
        "            avg_train_loss = total_loss / len(train_dataloader)\n",
        "\n",
        "            model.eval()\n",
        "            all_predictions = []\n",
        "            all_labels = []\n",
        "            with torch.no_grad():\n",
        "                for val_batch in val_dataloader:\n",
        "                    val_batch = tuple(t.to(device) for t in val_batch)\n",
        "                    val_inputs, val_masks, val_labels = val_batch\n",
        "                    val_outputs = model(val_inputs, val_masks)\n",
        "                    val_predictions = val_outputs.squeeze(-1).detach().cpu().numpy()\n",
        "                    all_predictions.extend(val_predictions)\n",
        "                    all_labels.extend(val_labels.detach().cpu().numpy())\n",
        "\n",
        "                val_rmse = np.sqrt(mean_squared_error(all_labels, all_predictions))\n",
        "                val_mae = mean_absolute_error(all_labels, all_predictions)\n",
        "                val_nrmse = val_rmse / (max(all_labels) - min(all_labels))  \n",
        "\n",
        "                print(f\"Fold {fold_idx}/{kf.get_n_splits()}: Epoch {epoch + 1}/{epochs}, RMSE: {val_rmse:.4f}, MAE: {val_mae:.4f}, NRMSE: {val_nrmse:.4f}\")\n",
        "\n",
        "            fold_rmse.append(val_rmse)\n",
        "            fold_mae.append(val_mae)\n",
        "            fold_nrmse.append(val_nrmse)\n",
        "\n",
        "    avg_rmse = np.mean(fold_rmse)\n",
        "    avg_mae = np.mean(fold_mae)\n",
        "    avg_nrmse = np.mean(fold_nrmse)\n",
        "\n",
        "    model_eval_results = {\n",
        "        f'{model_name}_RMSE': avg_rmse,\n",
        "        f'{model_name}_MAE': avg_mae,\n",
        "        f'{model_name}_NRMSE': avg_nrmse\n",
        "    }\n",
        "    evaluation_results.append(model_eval_results)\n",
        "\n",
        "df = pd.DataFrame(evaluation_results)\n",
        "print(df)\n"
      ]
    }
  ],
  "metadata": {
    "accelerator": "GPU",
    "colab": {
      "gpuType": "T4",
      "provenance": []
    },
    "kernelspec": {
      "display_name": "Python 3",
      "name": "python3"
    },
    "language_info": {
      "name": "python"
    }
  },
  "nbformat": 4,
  "nbformat_minor": 0
}
